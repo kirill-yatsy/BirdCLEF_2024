{
 "cells": [
  {
   "cell_type": "code",
   "execution_count": 24,
   "metadata": {},
   "outputs": [],
   "source": [
    "import yaml\n",
    "import pandas as pd\n",
    "import glob\n",
    "import os"
   ]
  },
  {
   "cell_type": "code",
   "execution_count": 25,
   "metadata": {},
   "outputs": [],
   "source": [
    "with open(\"../../filepaths.yml\", \"r\") as file:\n",
    "    filepaths = yaml.safe_load(file)"
   ]
  },
  {
   "cell_type": "code",
   "execution_count": 26,
   "metadata": {},
   "outputs": [],
   "source": [
    "def get_classes(path: str) -> list[str]:\n",
    "    class_names = sorted(os.listdir(path))\n",
    "    return class_names"
   ]
  },
  {
   "cell_type": "code",
   "execution_count": 27,
   "metadata": {},
   "outputs": [],
   "source": [
    "# create df with x = path to audio file, y = class\n",
    "def create_dataframe(path: str) -> pd.DataFrame:\n",
    "    path = f\"../../{path}\"\n",
    "    class_names = get_classes(path)\n",
    "    class_names_dic = {class_names[i]: i for i in range(0, len(class_names))}\n",
    "    paths = glob.glob(f\"{path}/**/*.ogg\")\n",
    "    paths = [x.replace(\"../../\", \"\") for x in paths]\n",
    "\n",
    "    df = pd.DataFrame(data={\"x\": paths, \"species\": [x.split(\"/\")[-2] for x in paths]})\n",
    "    df[\"species\"] = df[\"species\"].astype(\"category\")\n",
    "    df[\"y\"] = df[\"species\"].map(class_names_dic)\n",
    "    return df"
   ]
  },
  {
   "cell_type": "code",
   "execution_count": 28,
   "metadata": {},
   "outputs": [],
   "source": [
    "df = pd.DataFrame()\n",
    "\n",
    "for source in filepaths[\"birdclefs\"]:\n",
    "    path = filepaths[\"birdclefs\"][source]\n",
    "    new_df = create_dataframe(path)\n",
    "    df = pd.concat([df, new_df])"
   ]
  },
  {
   "cell_type": "code",
   "execution_count": 29,
   "metadata": {},
   "outputs": [],
   "source": [
    "df = df.reset_index(drop=True)"
   ]
  },
  {
   "cell_type": "code",
   "execution_count": 31,
   "metadata": {},
   "outputs": [
    {
     "data": {
      "text/html": [
       "<div>\n",
       "<style scoped>\n",
       "    .dataframe tbody tr th:only-of-type {\n",
       "        vertical-align: middle;\n",
       "    }\n",
       "\n",
       "    .dataframe tbody tr th {\n",
       "        vertical-align: top;\n",
       "    }\n",
       "\n",
       "    .dataframe thead th {\n",
       "        text-align: right;\n",
       "    }\n",
       "</style>\n",
       "<table border=\"1\" class=\"dataframe\">\n",
       "  <thead>\n",
       "    <tr style=\"text-align: right;\">\n",
       "      <th></th>\n",
       "      <th>x</th>\n",
       "      <th>species</th>\n",
       "      <th>y</th>\n",
       "    </tr>\n",
       "  </thead>\n",
       "  <tbody>\n",
       "    <tr>\n",
       "      <th>0</th>\n",
       "      <td>data/birdclef-2024/train_audio/rutfly6/XC52430...</td>\n",
       "      <td>rutfly6</td>\n",
       "      <td>148</td>\n",
       "    </tr>\n",
       "    <tr>\n",
       "      <th>1</th>\n",
       "      <td>data/birdclef-2024/train_audio/rutfly6/XC81798...</td>\n",
       "      <td>rutfly6</td>\n",
       "      <td>148</td>\n",
       "    </tr>\n",
       "    <tr>\n",
       "      <th>2</th>\n",
       "      <td>data/birdclef-2024/train_audio/rutfly6/XC81798...</td>\n",
       "      <td>rutfly6</td>\n",
       "      <td>148</td>\n",
       "    </tr>\n",
       "    <tr>\n",
       "      <th>3</th>\n",
       "      <td>data/birdclef-2024/train_audio/rutfly6/XC30761...</td>\n",
       "      <td>rutfly6</td>\n",
       "      <td>148</td>\n",
       "    </tr>\n",
       "    <tr>\n",
       "      <th>4</th>\n",
       "      <td>data/birdclef-2024/train_audio/rutfly6/XC30751...</td>\n",
       "      <td>rutfly6</td>\n",
       "      <td>148</td>\n",
       "    </tr>\n",
       "    <tr>\n",
       "      <th>...</th>\n",
       "      <td>...</td>\n",
       "      <td>...</td>\n",
       "      <td>...</td>\n",
       "    </tr>\n",
       "    <tr>\n",
       "      <th>119121</th>\n",
       "      <td>data/birdclef-2021/train_short_audio/chispa/XC...</td>\n",
       "      <td>chispa</td>\n",
       "      <td>95</td>\n",
       "    </tr>\n",
       "    <tr>\n",
       "      <th>119122</th>\n",
       "      <td>data/birdclef-2021/train_short_audio/chispa/XC...</td>\n",
       "      <td>chispa</td>\n",
       "      <td>95</td>\n",
       "    </tr>\n",
       "    <tr>\n",
       "      <th>119123</th>\n",
       "      <td>data/birdclef-2021/train_short_audio/chispa/XC...</td>\n",
       "      <td>chispa</td>\n",
       "      <td>95</td>\n",
       "    </tr>\n",
       "    <tr>\n",
       "      <th>119124</th>\n",
       "      <td>data/birdclef-2021/train_short_audio/chispa/XC...</td>\n",
       "      <td>chispa</td>\n",
       "      <td>95</td>\n",
       "    </tr>\n",
       "    <tr>\n",
       "      <th>119125</th>\n",
       "      <td>data/birdclef-2021/train_short_audio/chispa/XC...</td>\n",
       "      <td>chispa</td>\n",
       "      <td>95</td>\n",
       "    </tr>\n",
       "  </tbody>\n",
       "</table>\n",
       "<p>119126 rows × 3 columns</p>\n",
       "</div>"
      ],
      "text/plain": [
       "                                                        x  species    y\n",
       "0       data/birdclef-2024/train_audio/rutfly6/XC52430...  rutfly6  148\n",
       "1       data/birdclef-2024/train_audio/rutfly6/XC81798...  rutfly6  148\n",
       "2       data/birdclef-2024/train_audio/rutfly6/XC81798...  rutfly6  148\n",
       "3       data/birdclef-2024/train_audio/rutfly6/XC30761...  rutfly6  148\n",
       "4       data/birdclef-2024/train_audio/rutfly6/XC30751...  rutfly6  148\n",
       "...                                                   ...      ...  ...\n",
       "119121  data/birdclef-2021/train_short_audio/chispa/XC...   chispa   95\n",
       "119122  data/birdclef-2021/train_short_audio/chispa/XC...   chispa   95\n",
       "119123  data/birdclef-2021/train_short_audio/chispa/XC...   chispa   95\n",
       "119124  data/birdclef-2021/train_short_audio/chispa/XC...   chispa   95\n",
       "119125  data/birdclef-2021/train_short_audio/chispa/XC...   chispa   95\n",
       "\n",
       "[119126 rows x 3 columns]"
      ]
     },
     "execution_count": 31,
     "metadata": {},
     "output_type": "execute_result"
    }
   ],
   "source": [
    "df"
   ]
  },
  {
   "cell_type": "code",
   "execution_count": 30,
   "metadata": {},
   "outputs": [
    {
     "data": {
      "text/plain": [
       "119126"
      ]
     },
     "execution_count": 30,
     "metadata": {},
     "output_type": "execute_result"
    }
   ],
   "source": [
    "len(df)"
   ]
  },
  {
   "cell_type": "code",
   "execution_count": 8,
   "metadata": {},
   "outputs": [
    {
     "data": {
      "text/html": [
       "<div>\n",
       "<style scoped>\n",
       "    .dataframe tbody tr th:only-of-type {\n",
       "        vertical-align: middle;\n",
       "    }\n",
       "\n",
       "    .dataframe tbody tr th {\n",
       "        vertical-align: top;\n",
       "    }\n",
       "\n",
       "    .dataframe thead th {\n",
       "        text-align: right;\n",
       "    }\n",
       "</style>\n",
       "<table border=\"1\" class=\"dataframe\">\n",
       "  <thead>\n",
       "    <tr style=\"text-align: right;\">\n",
       "      <th></th>\n",
       "      <th>x</th>\n",
       "      <th>species</th>\n",
       "      <th>y</th>\n",
       "    </tr>\n",
       "  </thead>\n",
       "  <tbody>\n",
       "    <tr>\n",
       "      <th>0</th>\n",
       "      <td>data/birdclef-2024/train_audio/rutfly6/XC52430...</td>\n",
       "      <td>rutfly6</td>\n",
       "      <td>148</td>\n",
       "    </tr>\n",
       "    <tr>\n",
       "      <th>1</th>\n",
       "      <td>data/birdclef-2024/train_audio/rutfly6/XC81798...</td>\n",
       "      <td>rutfly6</td>\n",
       "      <td>148</td>\n",
       "    </tr>\n",
       "    <tr>\n",
       "      <th>2</th>\n",
       "      <td>data/birdclef-2024/train_audio/rutfly6/XC81798...</td>\n",
       "      <td>rutfly6</td>\n",
       "      <td>148</td>\n",
       "    </tr>\n",
       "    <tr>\n",
       "      <th>3</th>\n",
       "      <td>data/birdclef-2024/train_audio/rutfly6/XC30761...</td>\n",
       "      <td>rutfly6</td>\n",
       "      <td>148</td>\n",
       "    </tr>\n",
       "    <tr>\n",
       "      <th>4</th>\n",
       "      <td>data/birdclef-2024/train_audio/rutfly6/XC30751...</td>\n",
       "      <td>rutfly6</td>\n",
       "      <td>148</td>\n",
       "    </tr>\n",
       "  </tbody>\n",
       "</table>\n",
       "</div>"
      ],
      "text/plain": [
       "                                                   x  species    y\n",
       "0  data/birdclef-2024/train_audio/rutfly6/XC52430...  rutfly6  148\n",
       "1  data/birdclef-2024/train_audio/rutfly6/XC81798...  rutfly6  148\n",
       "2  data/birdclef-2024/train_audio/rutfly6/XC81798...  rutfly6  148\n",
       "3  data/birdclef-2024/train_audio/rutfly6/XC30761...  rutfly6  148\n",
       "4  data/birdclef-2024/train_audio/rutfly6/XC30751...  rutfly6  148"
      ]
     },
     "execution_count": 8,
     "metadata": {},
     "output_type": "execute_result"
    }
   ],
   "source": [
    "df.head()"
   ]
  },
  {
   "cell_type": "code",
   "execution_count": 9,
   "metadata": {},
   "outputs": [
    {
     "data": {
      "text/plain": [
       "species\n",
       "barswa     1500\n",
       "comsan     1500\n",
       "houspa     1500\n",
       "bcnher     1296\n",
       "norcar     1000\n",
       "           ... \n",
       "yebsto1       1\n",
       "afpkin1       1\n",
       "whctur2       1\n",
       "maupar        1\n",
       "lotcor1       1\n",
       "Name: count, Length: 926, dtype: int64"
      ]
     },
     "execution_count": 9,
     "metadata": {},
     "output_type": "execute_result"
    }
   ],
   "source": [
    "df[\"species\"].value_counts()"
   ]
  },
  {
   "cell_type": "code",
   "execution_count": 13,
   "metadata": {},
   "outputs": [],
   "source": [
    "df.to_parquet(\"../../data/processed/files.parquet\")"
   ]
  }
 ],
 "metadata": {
  "kernelspec": {
   "display_name": "base",
   "language": "python",
   "name": "python3"
  },
  "language_info": {
   "codemirror_mode": {
    "name": "ipython",
    "version": 3
   },
   "file_extension": ".py",
   "mimetype": "text/x-python",
   "name": "python",
   "nbconvert_exporter": "python",
   "pygments_lexer": "ipython3",
   "version": "3.11.5"
  }
 },
 "nbformat": 4,
 "nbformat_minor": 2
}
