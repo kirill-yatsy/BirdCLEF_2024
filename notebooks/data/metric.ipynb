{
 "cells": [
  {
   "cell_type": "code",
   "execution_count": 1,
   "metadata": {},
   "outputs": [],
   "source": [
    "from torchmetrics import Metric\n",
    "import torch\n",
    "from typing import Optional, Union, Sequence, Tuple\n",
    "import wandb\n",
    "from torchmetrics.utilities.plot import (\n",
    "    _AX_TYPE,\n",
    "    _PLOT_OUT_TYPE,\n",
    "    plot_single_or_multi_val,\n",
    ")\n",
    "import pandas as pd\n",
    "import wandb"
   ]
  },
  {
   "cell_type": "code",
   "execution_count": 2,
   "metadata": {},
   "outputs": [],
   "source": [
    " "
   ]
  },
  {
   "cell_type": "code",
   "execution_count": 4,
   "metadata": {},
   "outputs": [
    {
     "data": {
      "text/plain": [
       "device(type='cuda', index=0)"
      ]
     },
     "execution_count": 4,
     "metadata": {},
     "output_type": "execute_result"
    }
   ],
   "source": [
    "third.device"
   ]
  },
  {
   "cell_type": "code",
   "execution_count": 2,
   "metadata": {},
   "outputs": [],
   "source": [
    "class AccuracyPerClass(Metric):\n",
    "    def __init__(self, targetToLabelMapper: dict, **kwargs):\n",
    "        super().__init__(**kwargs)\n",
    "        self.add_state(\"predicted\", default=torch.tensor([]), dist_reduce_fx=\"cat\")\n",
    "        self.add_state(\"target\", default=torch.tensor([]), dist_reduce_fx=\"cat\")\n",
    "        self.targetToLabelMapper = targetToLabelMapper\n",
    "\n",
    "    def update(self, preds: torch.Tensor, target: torch.Tensor) -> None:\n",
    "        if preds.shape != target.shape:\n",
    "            raise ValueError(\"preds and target must have the same shape\")\n",
    "\n",
    "        self.predicted = torch.cat([self.predicted, preds])\n",
    "        self.target = torch.cat([self.target, target])\n",
    "\n",
    "    def compute(self) -> torch.Tensor:\n",
    "        target = self.target.cpu().numpy()\n",
    "        predicted = self.predicted.cpu().numpy()\n",
    "        output = []\n",
    "        # output\n",
    "        for t, p in zip(target, predicted):\n",
    "            output.append([self.targetToLabelMapper[t], t == p])\n",
    "\n",
    "        return output\n",
    "\n",
    "    def log(self, title: str):\n",
    "        data = self.compute()\n",
    "        table = wandb.Table(data=data, columns=[\"label\", \"value\"])\n",
    "        bar_chart = wandb.plot.bar(table, \"label\", \"value\", title)\n",
    "        wandb.log({\"accuracy_per_class_id\": bar_chart})"
   ]
  },
  {
   "cell_type": "code",
   "execution_count": 3,
   "metadata": {},
   "outputs": [],
   "source": [
    "metric = AccuracyPerClass({0: \"cat\", 1: \"dog\"})"
   ]
  },
  {
   "cell_type": "code",
   "execution_count": 8,
   "metadata": {},
   "outputs": [
    {
     "name": "stdout",
     "output_type": "stream",
     "text": [
      "[['cat', True], ['dog', True], ['dog', False], ['cat', False], ['cat', True], ['dog', True], ['dog', False], ['cat', False], ['dog', False], ['cat', False]]\n"
     ]
    }
   ],
   "source": [
    "preds = torch.tensor([0, 1, 0, 1, 0, 1])\n",
    "target = torch.tensor([0, 1, 1, 0, 1, 0])\n",
    "\n",
    "metric.update(preds, target)\n",
    "print(metric.compute())"
   ]
  },
  {
   "cell_type": "code",
   "execution_count": 11,
   "metadata": {},
   "outputs": [
    {
     "data": {
      "text/plain": [
       "True"
      ]
     },
     "execution_count": 11,
     "metadata": {},
     "output_type": "execute_result"
    }
   ],
   "source": [
    "wandb.login()"
   ]
  },
  {
   "cell_type": "code",
   "execution_count": 12,
   "metadata": {},
   "outputs": [
    {
     "data": {
      "text/html": [
       "wandb version 0.17.0 is available!  To upgrade, please run:\n",
       " $ pip install wandb --upgrade"
      ],
      "text/plain": [
       "<IPython.core.display.HTML object>"
      ]
     },
     "metadata": {},
     "output_type": "display_data"
    },
    {
     "data": {
      "text/html": [
       "Tracking run with wandb version 0.16.6"
      ],
      "text/plain": [
       "<IPython.core.display.HTML object>"
      ]
     },
     "metadata": {},
     "output_type": "display_data"
    },
    {
     "data": {
      "text/html": [
       "Run data is saved locally in <code>/home/lex/projects/BirdCLEF_2024/notebooks/data/wandb/run-20240507_234550-9aqcetix</code>"
      ],
      "text/plain": [
       "<IPython.core.display.HTML object>"
      ]
     },
     "metadata": {},
     "output_type": "display_data"
    },
    {
     "data": {
      "text/html": [
       "Syncing run <strong><a href='https://wandb.ai/yatsy/bird_clef_2024/runs/9aqcetix' target=\"_blank\">denim-mountain-35</a></strong> to <a href='https://wandb.ai/yatsy/bird_clef_2024' target=\"_blank\">Weights & Biases</a> (<a href='https://wandb.me/run' target=\"_blank\">docs</a>)<br/>"
      ],
      "text/plain": [
       "<IPython.core.display.HTML object>"
      ]
     },
     "metadata": {},
     "output_type": "display_data"
    },
    {
     "data": {
      "text/html": [
       " View project at <a href='https://wandb.ai/yatsy/bird_clef_2024' target=\"_blank\">https://wandb.ai/yatsy/bird_clef_2024</a>"
      ],
      "text/plain": [
       "<IPython.core.display.HTML object>"
      ]
     },
     "metadata": {},
     "output_type": "display_data"
    },
    {
     "data": {
      "text/html": [
       " View run at <a href='https://wandb.ai/yatsy/bird_clef_2024/runs/9aqcetix' target=\"_blank\">https://wandb.ai/yatsy/bird_clef_2024/runs/9aqcetix</a>"
      ],
      "text/plain": [
       "<IPython.core.display.HTML object>"
      ]
     },
     "metadata": {},
     "output_type": "display_data"
    }
   ],
   "source": [
    "run = wandb.init(\n",
    "    # Set the project where this run will be logged\n",
    "    project=\"bird_clef_2024\",\n",
    ")"
   ]
  },
  {
   "cell_type": "code",
   "execution_count": 13,
   "metadata": {},
   "outputs": [],
   "source": [
    "import random\n",
    "\n",
    "table = wandb.Table(\n",
    "    data=[\n",
    "        [\"car\", random.random()],\n",
    "        [\"bus\", random.random()],\n",
    "        [\"road\", random.random()],\n",
    "        [\"person\", random.random()],\n",
    "    ],\n",
    "    columns=[\"class\", \"acc\"],\n",
    ")\n",
    "wandb.log({\"bar-plot1\": wandb.plot.bar(table, \"class\", \"acc\")})"
   ]
  },
  {
   "cell_type": "code",
   "execution_count": 9,
   "metadata": {},
   "outputs": [],
   "source": [
    "metric.log(\"Accuracy per class\")"
   ]
  },
  {
   "cell_type": "code",
   "execution_count": 14,
   "metadata": {},
   "outputs": [
    {
     "data": {
      "application/vnd.jupyter.widget-view+json": {
       "model_id": "604e77bbe844449d8e77fc98e07f0b42",
       "version_major": 2,
       "version_minor": 0
      },
      "text/plain": [
       "VBox(children=(Label(value='0.004 MB of 0.016 MB uploaded\\r'), FloatProgress(value=0.24157131493605824, max=1.…"
      ]
     },
     "metadata": {},
     "output_type": "display_data"
    },
    {
     "data": {
      "text/html": [
       " View run <strong style=\"color:#cdcd00\">denim-mountain-35</strong> at: <a href='https://wandb.ai/yatsy/bird_clef_2024/runs/9aqcetix' target=\"_blank\">https://wandb.ai/yatsy/bird_clef_2024/runs/9aqcetix</a><br/> View project at: <a href='https://wandb.ai/yatsy/bird_clef_2024' target=\"_blank\">https://wandb.ai/yatsy/bird_clef_2024</a><br/>Synced 5 W&B file(s), 1 media file(s), 1 artifact file(s) and 0 other file(s)"
      ],
      "text/plain": [
       "<IPython.core.display.HTML object>"
      ]
     },
     "metadata": {},
     "output_type": "display_data"
    },
    {
     "data": {
      "text/html": [
       "Find logs at: <code>./wandb/run-20240507_234550-9aqcetix/logs</code>"
      ],
      "text/plain": [
       "<IPython.core.display.HTML object>"
      ]
     },
     "metadata": {},
     "output_type": "display_data"
    }
   ],
   "source": [
    "wandb.finish()"
   ]
  },
  {
   "cell_type": "code",
   "execution_count": 24,
   "metadata": {},
   "outputs": [
    {
     "data": {
      "text/plain": [
       "tensor([0.6667, 0.6667, 1.0000])"
      ]
     },
     "execution_count": 24,
     "metadata": {},
     "output_type": "execute_result"
    }
   ],
   "source": [
    "from torchmetrics.classification import MulticlassF1Score\n",
    "\n",
    "target = torch.tensor([2, 1, 0, 0])\n",
    "preds = torch.tensor(\n",
    "    [[0.16, 0.26, 0.58], [0.22, 0.61, 0.17], [0.71, 0.09, 0.20], [0.05, 0.82, 0.13]]\n",
    ")\n",
    "metric = MulticlassF1Score(num_classes=3, average=None)\n",
    "metric.update(preds, target)\n",
    "metric.compute()\n",
    "\n",
    "# mcf1s = MulticlassF1Score(num_classes=3, multidim_average='samplewise', average=None)\n",
    "# mcf1s(preds, target)"
   ]
  },
  {
   "cell_type": "code",
   "execution_count": 27,
   "metadata": {},
   "outputs": [
    {
     "data": {
      "text/plain": [
       "tensor(0.2500)"
      ]
     },
     "execution_count": 27,
     "metadata": {},
     "output_type": "execute_result"
    }
   ],
   "source": [
    "from torchmetrics import Precision\n",
    "\n",
    "\n",
    "preds = torch.tensor([2, 0, 2, 1])\n",
    "target = torch.tensor([1, 1, 2, 0])\n",
    "precision = Precision(task=\"multiclass\", average=None, num_classes=3)\n",
    "precision(preds, target)"
   ]
  }
 ],
 "metadata": {
  "kernelspec": {
   "display_name": "base",
   "language": "python",
   "name": "python3"
  },
  "language_info": {
   "codemirror_mode": {
    "name": "ipython",
    "version": 3
   },
   "file_extension": ".py",
   "mimetype": "text/x-python",
   "name": "python",
   "nbconvert_exporter": "python",
   "pygments_lexer": "ipython3",
   "version": "3.11.5"
  }
 },
 "nbformat": 4,
 "nbformat_minor": 2
}
