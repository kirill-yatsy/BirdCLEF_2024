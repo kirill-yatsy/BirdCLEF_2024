{
 "cells": [
  {
   "cell_type": "code",
   "execution_count": 65,
   "metadata": {},
   "outputs": [],
   "source": [
    "import yaml\n",
    "import pandas as pd\n",
    "import glob\n",
    "import os"
   ]
  },
  {
   "cell_type": "code",
   "execution_count": 66,
   "metadata": {},
   "outputs": [],
   "source": [
    "with open(\"../../filepaths.yml\", \"r\") as file:\n",
    "    filepaths = yaml.safe_load(file)"
   ]
  },
  {
   "cell_type": "code",
   "execution_count": 67,
   "metadata": {},
   "outputs": [],
   "source": [
    "def get_classes(path: str) -> list[str]:\n",
    "    class_names = sorted(os.listdir(path))\n",
    "    return class_names"
   ]
  },
  {
   "cell_type": "code",
   "execution_count": 68,
   "metadata": {},
   "outputs": [],
   "source": [
    "# create df with x = path to audio file, y = class\n",
    "def create_dataframe(path: str, datasetName: str) -> pd.DataFrame:\n",
    "    path = f\"../../{path}\"\n",
    "    paths = glob.glob(f\"{path}/**/*.ogg\")\n",
    "    paths = [x.replace(\"../../\", \"\") for x in paths]\n",
    "\n",
    "    df = pd.DataFrame(\n",
    "        data={\n",
    "            \"x\": paths,\n",
    "            \"species\": [x.split(\"/\")[-2] for x in paths],\n",
    "            \"dataset\": datasetName,\n",
    "        }\n",
    "    )\n",
    "    return df"
   ]
  },
  {
   "cell_type": "code",
   "execution_count": 69,
   "metadata": {},
   "outputs": [],
   "source": [
    "df = pd.DataFrame()\n",
    "\n",
    "for source in filepaths[\"birdclefs\"]:\n",
    "    path = filepaths[\"birdclefs\"][source]\n",
    "    new_df = create_dataframe(path, source)\n",
    "    df = pd.concat([df, new_df])\n",
    "\n",
    "df[\"species\"] = df[\"species\"].astype(\"category\")\n",
    "df[\"y\"] = df[\"species\"].cat.codes"
   ]
  },
  {
   "cell_type": "code",
   "execution_count": 70,
   "metadata": {},
   "outputs": [],
   "source": [
    "# make sure that the y values are unique for each class\n",
    "assert len(df[\"species\"].unique()) == len(df[\"y\"].unique())"
   ]
  },
  {
   "cell_type": "code",
   "execution_count": 71,
   "metadata": {},
   "outputs": [],
   "source": [
    "df = df.reset_index(drop=True)"
   ]
  },
  {
   "cell_type": "code",
   "execution_count": 72,
   "metadata": {},
   "outputs": [],
   "source": [
    "# get number of classes\n",
    "n_classes = len(df[\"species\"].unique())"
   ]
  },
  {
   "cell_type": "code",
   "execution_count": 73,
   "metadata": {},
   "outputs": [
    {
     "data": {
      "text/plain": [
       "119126"
      ]
     },
     "execution_count": 73,
     "metadata": {},
     "output_type": "execute_result"
    }
   ],
   "source": [
    "len(df)"
   ]
  },
  {
   "cell_type": "code",
   "execution_count": 74,
   "metadata": {},
   "outputs": [
    {
     "data": {
      "text/html": [
       "<div>\n",
       "<style scoped>\n",
       "    .dataframe tbody tr th:only-of-type {\n",
       "        vertical-align: middle;\n",
       "    }\n",
       "\n",
       "    .dataframe tbody tr th {\n",
       "        vertical-align: top;\n",
       "    }\n",
       "\n",
       "    .dataframe thead th {\n",
       "        text-align: right;\n",
       "    }\n",
       "</style>\n",
       "<table border=\"1\" class=\"dataframe\">\n",
       "  <thead>\n",
       "    <tr style=\"text-align: right;\">\n",
       "      <th></th>\n",
       "      <th>x</th>\n",
       "      <th>species</th>\n",
       "      <th>dataset</th>\n",
       "      <th>y</th>\n",
       "    </tr>\n",
       "  </thead>\n",
       "  <tbody>\n",
       "    <tr>\n",
       "      <th>0</th>\n",
       "      <td>data/birdclef-2024/train_audio/rutfly6/XC52430...</td>\n",
       "      <td>rutfly6</td>\n",
       "      <td>2024</td>\n",
       "      <td>700</td>\n",
       "    </tr>\n",
       "    <tr>\n",
       "      <th>1</th>\n",
       "      <td>data/birdclef-2024/train_audio/rutfly6/XC81798...</td>\n",
       "      <td>rutfly6</td>\n",
       "      <td>2024</td>\n",
       "      <td>700</td>\n",
       "    </tr>\n",
       "    <tr>\n",
       "      <th>2</th>\n",
       "      <td>data/birdclef-2024/train_audio/rutfly6/XC81798...</td>\n",
       "      <td>rutfly6</td>\n",
       "      <td>2024</td>\n",
       "      <td>700</td>\n",
       "    </tr>\n",
       "    <tr>\n",
       "      <th>3</th>\n",
       "      <td>data/birdclef-2024/train_audio/rutfly6/XC30761...</td>\n",
       "      <td>rutfly6</td>\n",
       "      <td>2024</td>\n",
       "      <td>700</td>\n",
       "    </tr>\n",
       "    <tr>\n",
       "      <th>4</th>\n",
       "      <td>data/birdclef-2024/train_audio/rutfly6/XC30751...</td>\n",
       "      <td>rutfly6</td>\n",
       "      <td>2024</td>\n",
       "      <td>700</td>\n",
       "    </tr>\n",
       "  </tbody>\n",
       "</table>\n",
       "</div>"
      ],
      "text/plain": [
       "                                                   x  species  dataset    y\n",
       "0  data/birdclef-2024/train_audio/rutfly6/XC52430...  rutfly6     2024  700\n",
       "1  data/birdclef-2024/train_audio/rutfly6/XC81798...  rutfly6     2024  700\n",
       "2  data/birdclef-2024/train_audio/rutfly6/XC81798...  rutfly6     2024  700\n",
       "3  data/birdclef-2024/train_audio/rutfly6/XC30761...  rutfly6     2024  700\n",
       "4  data/birdclef-2024/train_audio/rutfly6/XC30751...  rutfly6     2024  700"
      ]
     },
     "execution_count": 74,
     "metadata": {},
     "output_type": "execute_result"
    }
   ],
   "source": [
    "df.head()"
   ]
  },
  {
   "cell_type": "code",
   "execution_count": 75,
   "metadata": {},
   "outputs": [
    {
     "data": {
      "text/plain": [
       "species\n",
       "comsan     1500\n",
       "barswa     1500\n",
       "houspa     1500\n",
       "bcnher     1296\n",
       "eaywag1    1000\n",
       "           ... \n",
       "yebsto1       1\n",
       "crefra2       1\n",
       "afpkin1       1\n",
       "whctur2       1\n",
       "lotcor1       1\n",
       "Name: count, Length: 926, dtype: int64"
      ]
     },
     "execution_count": 75,
     "metadata": {},
     "output_type": "execute_result"
    }
   ],
   "source": [
    "df[\"species\"].value_counts()"
   ]
  },
  {
   "cell_type": "code",
   "execution_count": 13,
   "metadata": {},
   "outputs": [],
   "source": [
    "df.to_parquet(\"../../data/processed/files.parquet\")"
   ]
  },
  {
   "cell_type": "markdown",
   "metadata": {},
   "source": [
    "## Checking if we have only one example of some class"
   ]
  },
  {
   "cell_type": "code",
   "execution_count": 83,
   "metadata": {},
   "outputs": [
    {
     "data": {
      "text/html": [
       "<div>\n",
       "<style scoped>\n",
       "    .dataframe tbody tr th:only-of-type {\n",
       "        vertical-align: middle;\n",
       "    }\n",
       "\n",
       "    .dataframe tbody tr th {\n",
       "        vertical-align: top;\n",
       "    }\n",
       "\n",
       "    .dataframe thead th {\n",
       "        text-align: right;\n",
       "    }\n",
       "</style>\n",
       "<table border=\"1\" class=\"dataframe\">\n",
       "  <thead>\n",
       "    <tr style=\"text-align: right;\">\n",
       "      <th></th>\n",
       "      <th>x</th>\n",
       "      <th>species</th>\n",
       "      <th>dataset</th>\n",
       "      <th>y</th>\n",
       "    </tr>\n",
       "  </thead>\n",
       "  <tbody>\n",
       "    <tr>\n",
       "      <th>24792</th>\n",
       "      <td>data/birdclef-2023/train_audio/lotcor1/XC31723...</td>\n",
       "      <td>lotcor1</td>\n",
       "      <td>2023</td>\n",
       "      <td>493</td>\n",
       "    </tr>\n",
       "    <tr>\n",
       "      <th>27371</th>\n",
       "      <td>data/birdclef-2023/train_audio/brtcha1/XC12812...</td>\n",
       "      <td>brtcha1</td>\n",
       "      <td>2023</td>\n",
       "      <td>155</td>\n",
       "    </tr>\n",
       "    <tr>\n",
       "      <th>28499</th>\n",
       "      <td>data/birdclef-2023/train_audio/crefra2/XC66744...</td>\n",
       "      <td>crefra2</td>\n",
       "      <td>2023</td>\n",
       "      <td>262</td>\n",
       "    </tr>\n",
       "    <tr>\n",
       "      <th>28855</th>\n",
       "      <td>data/birdclef-2023/train_audio/whctur2/XC44463...</td>\n",
       "      <td>whctur2</td>\n",
       "      <td>2023</td>\n",
       "      <td>856</td>\n",
       "    </tr>\n",
       "    <tr>\n",
       "      <th>31725</th>\n",
       "      <td>data/birdclef-2023/train_audio/yebsto1/XC33785...</td>\n",
       "      <td>yebsto1</td>\n",
       "      <td>2023</td>\n",
       "      <td>904</td>\n",
       "    </tr>\n",
       "    <tr>\n",
       "      <th>34849</th>\n",
       "      <td>data/birdclef-2023/train_audio/whhsaw1/XC28926...</td>\n",
       "      <td>whhsaw1</td>\n",
       "      <td>2023</td>\n",
       "      <td>861</td>\n",
       "    </tr>\n",
       "    <tr>\n",
       "      <th>38206</th>\n",
       "      <td>data/birdclef-2023/train_audio/afpkin1/XC70486...</td>\n",
       "      <td>afpkin1</td>\n",
       "      <td>2023</td>\n",
       "      <td>13</td>\n",
       "    </tr>\n",
       "    <tr>\n",
       "      <th>48751</th>\n",
       "      <td>data/birdclef-2022/train_audio/maupar/XC123887...</td>\n",
       "      <td>maupar</td>\n",
       "      <td>2022</td>\n",
       "      <td>519</td>\n",
       "    </tr>\n",
       "  </tbody>\n",
       "</table>\n",
       "</div>"
      ],
      "text/plain": [
       "                                                       x  species  dataset  \\\n",
       "24792  data/birdclef-2023/train_audio/lotcor1/XC31723...  lotcor1     2023   \n",
       "27371  data/birdclef-2023/train_audio/brtcha1/XC12812...  brtcha1     2023   \n",
       "28499  data/birdclef-2023/train_audio/crefra2/XC66744...  crefra2     2023   \n",
       "28855  data/birdclef-2023/train_audio/whctur2/XC44463...  whctur2     2023   \n",
       "31725  data/birdclef-2023/train_audio/yebsto1/XC33785...  yebsto1     2023   \n",
       "34849  data/birdclef-2023/train_audio/whhsaw1/XC28926...  whhsaw1     2023   \n",
       "38206  data/birdclef-2023/train_audio/afpkin1/XC70486...  afpkin1     2023   \n",
       "48751  data/birdclef-2022/train_audio/maupar/XC123887...   maupar     2022   \n",
       "\n",
       "         y  \n",
       "24792  493  \n",
       "27371  155  \n",
       "28499  262  \n",
       "28855  856  \n",
       "31725  904  \n",
       "34849  861  \n",
       "38206   13  \n",
       "48751  519  "
      ]
     },
     "execution_count": 83,
     "metadata": {},
     "output_type": "execute_result"
    }
   ],
   "source": [
    "class_counts = df[\"species\"].value_counts()\n",
    "invalid_classes = class_counts[class_counts == 1]\n",
    "df[df[\"species\"].isin(invalid_classes.index.to_list())]"
   ]
  }
 ],
 "metadata": {
  "kernelspec": {
   "display_name": "base",
   "language": "python",
   "name": "python3"
  },
  "language_info": {
   "codemirror_mode": {
    "name": "ipython",
    "version": 3
   },
   "file_extension": ".py",
   "mimetype": "text/x-python",
   "name": "python",
   "nbconvert_exporter": "python",
   "pygments_lexer": "ipython3",
   "version": "3.11.5"
  }
 },
 "nbformat": 4,
 "nbformat_minor": 2
}
